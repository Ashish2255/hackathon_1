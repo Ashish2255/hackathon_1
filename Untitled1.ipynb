{
 "cells": [
  {
   "cell_type": "code",
   "execution_count": 1,
   "id": "1761cebc",
   "metadata": {},
   "outputs": [],
   "source": [
    "import numpy as np # linear algebra\n",
    "import pandas as pd # data processing, CSV file I/O (e.g. pd.read_csv)\n",
    "from sklearn import preprocessing\n",
    "from sklearn.model_selection import train_test_split\n",
    "\n",
    "from tqdm.auto import tqdm\n",
    "from sklearn.metrics import mean_squared_error"
   ]
  },
  {
   "cell_type": "code",
   "execution_count": 2,
   "id": "cb5ae6a5",
   "metadata": {},
   "outputs": [],
   "source": [
    "train_df=pd.read_csv('Train.csv')"
   ]
  },
  {
   "cell_type": "code",
   "execution_count": 3,
   "id": "159a1d53",
   "metadata": {},
   "outputs": [
    {
     "data": {
      "text/html": [
       "<div>\n",
       "<style scoped>\n",
       "    .dataframe tbody tr th:only-of-type {\n",
       "        vertical-align: middle;\n",
       "    }\n",
       "\n",
       "    .dataframe tbody tr th {\n",
       "        vertical-align: top;\n",
       "    }\n",
       "\n",
       "    .dataframe thead th {\n",
       "        text-align: right;\n",
       "    }\n",
       "</style>\n",
       "<table border=\"1\" class=\"dataframe\">\n",
       "  <thead>\n",
       "    <tr style=\"text-align: right;\">\n",
       "      <th></th>\n",
       "      <th>A</th>\n",
       "      <th>B</th>\n",
       "      <th>C</th>\n",
       "      <th>D</th>\n",
       "      <th>E</th>\n",
       "      <th>F</th>\n",
       "      <th>G</th>\n",
       "      <th>H</th>\n",
       "      <th>Target</th>\n",
       "    </tr>\n",
       "  </thead>\n",
       "  <tbody>\n",
       "    <tr>\n",
       "      <th>0</th>\n",
       "      <td>F</td>\n",
       "      <td>0.615</td>\n",
       "      <td>0.455</td>\n",
       "      <td>0.135</td>\n",
       "      <td>1.0590</td>\n",
       "      <td>0.4735</td>\n",
       "      <td>0.2630</td>\n",
       "      <td>0.274</td>\n",
       "      <td>9</td>\n",
       "    </tr>\n",
       "    <tr>\n",
       "      <th>1</th>\n",
       "      <td>F</td>\n",
       "      <td>0.515</td>\n",
       "      <td>0.395</td>\n",
       "      <td>0.140</td>\n",
       "      <td>0.6860</td>\n",
       "      <td>0.2810</td>\n",
       "      <td>0.1255</td>\n",
       "      <td>0.220</td>\n",
       "      <td>12</td>\n",
       "    </tr>\n",
       "    <tr>\n",
       "      <th>2</th>\n",
       "      <td>M</td>\n",
       "      <td>0.660</td>\n",
       "      <td>0.530</td>\n",
       "      <td>0.175</td>\n",
       "      <td>1.5830</td>\n",
       "      <td>0.7395</td>\n",
       "      <td>0.3505</td>\n",
       "      <td>0.405</td>\n",
       "      <td>10</td>\n",
       "    </tr>\n",
       "    <tr>\n",
       "      <th>3</th>\n",
       "      <td>M</td>\n",
       "      <td>0.455</td>\n",
       "      <td>0.365</td>\n",
       "      <td>0.095</td>\n",
       "      <td>0.5140</td>\n",
       "      <td>0.2245</td>\n",
       "      <td>0.1010</td>\n",
       "      <td>0.150</td>\n",
       "      <td>15</td>\n",
       "    </tr>\n",
       "    <tr>\n",
       "      <th>4</th>\n",
       "      <td>M</td>\n",
       "      <td>0.495</td>\n",
       "      <td>0.400</td>\n",
       "      <td>0.155</td>\n",
       "      <td>0.8085</td>\n",
       "      <td>0.2345</td>\n",
       "      <td>0.1155</td>\n",
       "      <td>0.350</td>\n",
       "      <td>6</td>\n",
       "    </tr>\n",
       "  </tbody>\n",
       "</table>\n",
       "</div>"
      ],
      "text/plain": [
       "   A      B      C      D       E       F       G      H  Target\n",
       "0  F  0.615  0.455  0.135  1.0590  0.4735  0.2630  0.274       9\n",
       "1  F  0.515  0.395  0.140  0.6860  0.2810  0.1255  0.220      12\n",
       "2  M  0.660  0.530  0.175  1.5830  0.7395  0.3505  0.405      10\n",
       "3  M  0.455  0.365  0.095  0.5140  0.2245  0.1010  0.150      15\n",
       "4  M  0.495  0.400  0.155  0.8085  0.2345  0.1155  0.350       6"
      ]
     },
     "execution_count": 3,
     "metadata": {},
     "output_type": "execute_result"
    }
   ],
   "source": [
    "train_df.head()"
   ]
  },
  {
   "cell_type": "code",
   "execution_count": 4,
   "id": "2d531549",
   "metadata": {},
   "outputs": [
    {
     "data": {
      "text/plain": [
       "Index(['A', 'B', 'C', 'D', 'E', 'F', 'G', 'H', 'Target'], dtype='object')"
      ]
     },
     "execution_count": 4,
     "metadata": {},
     "output_type": "execute_result"
    }
   ],
   "source": [
    "train_df.columns"
   ]
  },
  {
   "cell_type": "code",
   "execution_count": 5,
   "id": "e245b571",
   "metadata": {},
   "outputs": [
    {
     "data": {
      "text/plain": [
       "array([0, 2, 1])"
      ]
     },
     "execution_count": 5,
     "metadata": {},
     "output_type": "execute_result"
    }
   ],
   "source": [
    "## Label encoding column A of our dataset\n",
    "from sklearn import preprocessing\n",
    "  \n",
    "# label_encoder object knows \n",
    "# how to understand word labels.\n",
    "label_encoder = preprocessing.LabelEncoder()\n",
    "  \n",
    "# Encode labels in column 'species'.\n",
    "train_df['A']= label_encoder.fit_transform(train_df['A'])\n",
    "  \n",
    "train_df['A'].unique()"
   ]
  },
  {
   "cell_type": "code",
   "execution_count": 6,
   "id": "4afa253a",
   "metadata": {},
   "outputs": [],
   "source": [
    "X = train_df.drop(['Target'], axis=1)\n",
    "y = train_df['Target']"
   ]
  },
  {
   "cell_type": "code",
   "execution_count": 7,
   "id": "72dd0e97",
   "metadata": {},
   "outputs": [],
   "source": [
    "from sklearn.preprocessing import PolynomialFeatures\n",
    "poly = PolynomialFeatures(degree=3)"
   ]
  },
  {
   "cell_type": "code",
   "execution_count": 8,
   "id": "1aa717ff",
   "metadata": {},
   "outputs": [],
   "source": [
    "X_multi_trans = poly.fit_transform(X)"
   ]
  },
  {
   "cell_type": "code",
   "execution_count": 9,
   "id": "8912a961",
   "metadata": {},
   "outputs": [],
   "source": [
    "from sklearn.preprocessing import StandardScaler\n",
    "X_std = StandardScaler().fit_transform(X_multi_trans)"
   ]
  },
  {
   "cell_type": "code",
   "execution_count": 10,
   "id": "4e6d6858",
   "metadata": {},
   "outputs": [
    {
     "name": "stdout",
     "output_type": "stream",
     "text": [
      "Covariance matrix \n",
      "[[ 0.          0.          0.         ...  0.          0.\n",
      "   0.        ]\n",
      " [ 0.          1.00031939 -0.03974202 ... -0.00788087 -0.0133542\n",
      "  -0.0147739 ]\n",
      " [ 0.         -0.03974202  1.00031939 ...  0.66382068  0.64947112\n",
      "   0.55540441]\n",
      " ...\n",
      " [ 0.         -0.00788087  0.66382068 ...  1.00031939  0.95298279\n",
      "   0.80618889]\n",
      " [ 0.         -0.0133542   0.64947112 ...  0.95298279  1.00031939\n",
      "   0.94454363]\n",
      " [ 0.         -0.0147739   0.55540441 ...  0.80618889  0.94454363\n",
      "   1.00031939]]\n"
     ]
    }
   ],
   "source": [
    "mean_vec = np.mean(X_std, axis=0)\n",
    "cov_mat = (X_std - mean_vec).T.dot((X_std - mean_vec)) / (X_std.shape[0]-1)\n",
    "print('Covariance matrix \\n%s' %cov_mat)"
   ]
  },
  {
   "cell_type": "code",
   "execution_count": 11,
   "id": "5170211f",
   "metadata": {},
   "outputs": [
    {
     "name": "stdout",
     "output_type": "stream",
     "text": [
      "NumPy covariance matrix: \n",
      "[[ 0.          0.          0.         ...  0.          0.\n",
      "   0.        ]\n",
      " [ 0.          1.00031939 -0.03974202 ... -0.00788087 -0.0133542\n",
      "  -0.0147739 ]\n",
      " [ 0.         -0.03974202  1.00031939 ...  0.66382068  0.64947112\n",
      "   0.55540441]\n",
      " ...\n",
      " [ 0.         -0.00788087  0.66382068 ...  1.00031939  0.95298279\n",
      "   0.80618889]\n",
      " [ 0.         -0.0133542   0.64947112 ...  0.95298279  1.00031939\n",
      "   0.94454363]\n",
      " [ 0.         -0.0147739   0.55540441 ...  0.80618889  0.94454363\n",
      "   1.00031939]]\n"
     ]
    }
   ],
   "source": [
    "print('NumPy covariance matrix: \\n%s' %np.cov(X_std.T))"
   ]
  },
  {
   "cell_type": "code",
   "execution_count": 12,
   "id": "bd866649",
   "metadata": {},
   "outputs": [
    {
     "name": "stdout",
     "output_type": "stream",
     "text": [
      "Eigenvectors \n",
      "[[ 0.00000000e+00  0.00000000e+00  0.00000000e+00 ...  0.00000000e+00\n",
      "   0.00000000e+00  1.00000000e+00]\n",
      " [-1.50532424e-02 -1.72162861e-01  1.10552613e-02 ... -4.12340902e-04\n",
      "   3.50698947e-04  0.00000000e+00]\n",
      " [-7.55639854e-02  2.59337578e-02 -1.40242484e-01 ...  2.33190343e-03\n",
      "  -1.37047343e-03  0.00000000e+00]\n",
      " ...\n",
      " [-8.47851793e-02  3.88589546e-02  8.62460447e-02 ... -9.05531224e-04\n",
      "  -3.39504541e-03  0.00000000e+00]\n",
      " [-8.26887606e-02  4.07874083e-02  6.53900261e-02 ... -2.74012451e-03\n",
      "  -5.30262816e-03  0.00000000e+00]\n",
      " [-7.13948226e-02  3.76664995e-02  4.31986561e-02 ... -2.18723027e-03\n",
      "   1.75552583e-04  0.00000000e+00]]\n",
      "\n",
      "Eigenvalues \n",
      "[ 1.17142160e+02  2.78846477e+01  6.06926403e+00  4.26985609e+00\n",
      "  3.24874454e+00  1.63487523e+00  1.35383401e+00  7.34684983e-01\n",
      "  2.64300099e-01  2.39832682e-01  2.22859195e-01  1.59795302e-01\n",
      "  1.48338239e-01  1.06516995e-01  1.00189225e-01  9.41585831e-02\n",
      "  7.49599375e-02  5.55962578e-02  5.25877544e-02  4.93793516e-02\n",
      "  3.28768283e-02  1.37324093e-02  1.17420883e-02  1.04688928e-02\n",
      "  9.53089641e-03  7.63759621e-03  7.15563798e-03  6.15342653e-03\n",
      "  5.24821216e-03  4.66278994e-03  4.26008391e-03  4.09109477e-03\n",
      "  3.78117530e-03  2.91290436e-03  2.48373336e-03  2.30692524e-03\n",
      "  1.90583110e-03  2.01598055e-03  1.34327647e-03  1.21051360e-03\n",
      "  1.06491052e-03  9.50246871e-04  8.38843047e-04  5.49612832e-04\n",
      "  5.38640351e-04  4.81867505e-04  4.23090790e-04  3.95640266e-04\n",
      "  3.67094833e-04  3.55217887e-04  3.03847012e-04  2.71779184e-04\n",
      "  2.49900288e-04  2.40183255e-04  2.38844749e-04  2.26604668e-04\n",
      "  2.07147255e-04  1.97093876e-04  1.84525174e-04  1.74977836e-04\n",
      "  1.56343233e-04  1.48013685e-04  1.38330381e-04  1.24524788e-04\n",
      "  1.12785897e-04  1.09406791e-04  1.00271341e-04  9.39531626e-05\n",
      "  9.16218352e-05  8.23320284e-05  7.20508216e-05  7.03891789e-05\n",
      "  5.74421622e-05  5.38742762e-05  4.81670249e-05  4.55048559e-05\n",
      "  4.32488972e-05  3.59295459e-05  3.25643946e-05  3.18124298e-05\n",
      "  2.87035773e-05  2.58338955e-05  2.50912214e-05  2.41983148e-05\n",
      "  2.08995023e-05  1.90654085e-05  1.81661179e-05  1.73564406e-05\n",
      "  1.59888862e-05  1.32513534e-05  1.27625988e-05  1.23100971e-05\n",
      "  1.16081708e-05  1.09779043e-05  1.06221880e-05  9.85370907e-06\n",
      "  8.27254943e-06  7.50790036e-06  6.70951896e-06  5.52815818e-06\n",
      "  5.30509538e-06  4.96040868e-06  4.65216187e-06  4.15892549e-06\n",
      "  3.72595097e-06  3.29038934e-06  3.54085623e-06  3.44959765e-06\n",
      "  2.52056809e-06  2.55399866e-06  2.28243714e-06  2.16991978e-06\n",
      "  2.06230111e-06  1.78920971e-06  1.75718974e-06  1.63351951e-06\n",
      "  1.55747327e-06  1.48358185e-06  1.13875297e-06  1.04305511e-06\n",
      "  9.92442543e-07  9.32309491e-07  8.62843507e-07  7.91529429e-07\n",
      "  6.91428062e-07  6.08583695e-07  5.38467759e-07  5.33228483e-07\n",
      "  4.48980984e-07  4.39588273e-07  4.16021203e-07  3.93606467e-07\n",
      "  3.17722126e-07  3.08473999e-07  2.60151368e-07  2.54160790e-07\n",
      "  1.96788806e-07  1.89297446e-07  1.50629265e-07  1.38235069e-07\n",
      "  1.30158759e-07  1.18145877e-07  1.04193424e-07  9.03077264e-08\n",
      "  8.43497010e-08  7.85157068e-08  7.19037796e-08  5.28144313e-08\n",
      "  5.06110326e-08  4.30993476e-08  3.73552484e-08  3.20505034e-08\n",
      "  2.58467006e-08  2.15352762e-08  2.07390310e-08  7.79304842e-10\n",
      " -4.61021513e-14  3.10520123e-09  4.09681420e-09  6.76801542e-09\n",
      "  1.41202275e-08  1.51681921e-08  1.11573694e-08  1.15316216e-08\n",
      "  0.00000000e+00]\n"
     ]
    }
   ],
   "source": [
    "eig_vals, eig_vecs = np.linalg.eig(cov_mat)\n",
    "\n",
    "print('Eigenvectors \\n%s' %eig_vecs)\n",
    "print('\\nEigenvalues \\n%s' %eig_vals)"
   ]
  },
  {
   "cell_type": "code",
   "execution_count": 13,
   "id": "fc0dd33b",
   "metadata": {},
   "outputs": [
    {
     "name": "stdout",
     "output_type": "stream",
     "text": [
      "Eigenvalues in descending order:\n",
      "117.14216001549015\n",
      "27.88464769954885\n",
      "6.069264031554967\n",
      "4.2698560888630155\n",
      "3.2487445399325487\n",
      "1.6348752285886397\n",
      "1.3538340145427576\n",
      "0.7346849833982231\n",
      "0.26430009914206637\n",
      "0.23983268241684252\n",
      "0.22285919506808768\n",
      "0.15979530173166626\n",
      "0.14833823949680144\n",
      "0.1065169947119049\n",
      "0.10018922546712064\n",
      "0.09415858307110408\n",
      "0.07495993749166885\n",
      "0.055596257768552045\n",
      "0.05258775439091584\n",
      "0.049379351608200804\n",
      "0.03287682825357249\n",
      "0.013732409318968231\n",
      "0.011742088281273072\n",
      "0.010468892802522655\n",
      "0.009530896407937915\n",
      "0.007637596207356702\n",
      "0.007155637982848693\n",
      "0.006153426532204859\n",
      "0.00524821216341202\n",
      "0.004662789936804549\n",
      "0.004260083913169408\n",
      "0.004091094766506381\n",
      "0.0037811752960261675\n",
      "0.002912904355129565\n",
      "0.002483733361167402\n",
      "0.002306925235073284\n",
      "0.0020159805460735663\n",
      "0.0019058310987484677\n",
      "0.0013432764700593912\n",
      "0.0012105136004359573\n",
      "0.001064910524185227\n",
      "0.0009502468710608969\n",
      "0.0008388430466136719\n",
      "0.0005496128323065742\n",
      "0.0005386403505880414\n",
      "0.0004818675050636709\n",
      "0.0004230907899984259\n",
      "0.0003956402659090358\n",
      "0.0003670948334020028\n",
      "0.000355217886743531\n",
      "0.0003038470123013002\n",
      "0.0002717791839862307\n",
      "0.0002499002877690902\n",
      "0.00024018325503161796\n",
      "0.00023884474930578823\n",
      "0.00022660466751341728\n",
      "0.0002071472546006861\n",
      "0.00019709387564241293\n",
      "0.00018452517422884454\n",
      "0.00017497783573408555\n",
      "0.00015634323289092318\n",
      "0.00014801368451963328\n",
      "0.00013833038070699478\n",
      "0.0001245247879090682\n",
      "0.00011278589729682466\n",
      "0.00010940679066215377\n",
      "0.00010027134095136302\n",
      "9.395316261782085e-05\n",
      "9.162183523218822e-05\n",
      "8.233202835081856e-05\n",
      "7.20508215665077e-05\n",
      "7.038917887012786e-05\n",
      "5.7442162240239353e-05\n",
      "5.3874276180234857e-05\n",
      "4.8167024856895176e-05\n",
      "4.550485587768769e-05\n",
      "4.324889721759581e-05\n",
      "3.5929545906325225e-05\n",
      "3.2564394633832376e-05\n",
      "3.181242984742045e-05\n",
      "2.8703577256095917e-05\n",
      "2.5833895525220956e-05\n",
      "2.509122141031718e-05\n",
      "2.4198314799423404e-05\n",
      "2.089950225378128e-05\n",
      "1.9065408540983193e-05\n",
      "1.8166117946218014e-05\n",
      "1.7356440582601758e-05\n",
      "1.5988886225714003e-05\n",
      "1.3251353379139387e-05\n",
      "1.2762598803168633e-05\n",
      "1.2310097129345298e-05\n",
      "1.1608170789879097e-05\n",
      "1.0977904262513962e-05\n",
      "1.062218803925401e-05\n",
      "9.853709070340594e-06\n",
      "8.27254943418363e-06\n",
      "7.5079003620722985e-06\n",
      "6.709518961797596e-06\n",
      "5.528158178497514e-06\n",
      "5.305095378298927e-06\n",
      "4.960408682244349e-06\n",
      "4.652161873560755e-06\n",
      "4.158925489648728e-06\n",
      "3.725950966523371e-06\n",
      "3.5408562317352437e-06\n",
      "3.44959764736776e-06\n",
      "3.2903893356952216e-06\n",
      "2.5539986561136564e-06\n",
      "2.520568091449057e-06\n",
      "2.2824371413476692e-06\n",
      "2.1699197799551046e-06\n",
      "2.0623011099499286e-06\n",
      "1.789209713451587e-06\n",
      "1.757189736819918e-06\n",
      "1.6335195148974693e-06\n",
      "1.557473267588787e-06\n",
      "1.483581850557536e-06\n",
      "1.1387529735518475e-06\n",
      "1.043055111850749e-06\n",
      "9.924425433870795e-07\n",
      "9.32309490736247e-07\n",
      "8.628435065931048e-07\n",
      "7.91529428647567e-07\n",
      "6.914280622470584e-07\n",
      "6.085836949370568e-07\n",
      "5.384677591638089e-07\n",
      "5.332284834887558e-07\n",
      "4.4898098392822154e-07\n",
      "4.395882729602866e-07\n",
      "4.160212025800545e-07\n",
      "3.9360646682012036e-07\n",
      "3.177221258873614e-07\n",
      "3.0847399851435573e-07\n",
      "2.6015136817031556e-07\n",
      "2.541607899646923e-07\n",
      "1.967888062846417e-07\n",
      "1.8929744642279e-07\n",
      "1.5062926531385691e-07\n",
      "1.3823506861488374e-07\n",
      "1.3015875857955634e-07\n",
      "1.1814587735432816e-07\n",
      "1.0419342393656274e-07\n",
      "9.030772640607918e-08\n",
      "8.43497009625585e-08\n",
      "7.851570684449214e-08\n",
      "7.190377961365812e-08\n",
      "5.2814431269011484e-08\n",
      "5.061103258786275e-08\n",
      "4.309934759628394e-08\n",
      "3.735524843686031e-08\n",
      "3.205050336336312e-08\n",
      "2.58467006355781e-08\n",
      "2.1535276222793663e-08\n",
      "2.073903103416694e-08\n",
      "1.516819209993715e-08\n",
      "1.4120227458563676e-08\n",
      "1.1531621644353109e-08\n",
      "1.1157369438952528e-08\n",
      "6.76801542384126e-09\n",
      "4.096814202120294e-09\n",
      "3.1052012301487613e-09\n",
      "7.793048424794786e-10\n",
      "4.6102151293344035e-14\n",
      "0.0\n"
     ]
    }
   ],
   "source": [
    "# Make a list of (eigenvalue, eigenvector) tuples\n",
    "eig_pairs = [(np.abs(eig_vals[i]), eig_vecs[:,i]) for i in range(len(eig_vals))]\n",
    "\n",
    "# Sort the (eigenvalue, eigenvector) tuples from high to low\n",
    "eig_pairs.sort(key=lambda x: x[0], reverse=True)\n",
    "\n",
    "# Visually confirm that the list is correctly sorted by decreasing eigenvalues\n",
    "print('Eigenvalues in descending order:')\n",
    "for i in eig_pairs:\n",
    "    print(i[0])"
   ]
  },
  {
   "cell_type": "code",
   "execution_count": 14,
   "id": "54843a83",
   "metadata": {},
   "outputs": [],
   "source": [
    "tot = sum(eig_vals)\n",
    "var_exp = [(i / tot)*100 for i in sorted(eig_vals, reverse=True)]"
   ]
  },
  {
   "cell_type": "code",
   "execution_count": 15,
   "id": "1f5e3a7a",
   "metadata": {},
   "outputs": [
    {
     "data": {
      "image/png": "[encoded data removed]",
      "text/plain": [
       "<Figure size 600x400 with 1 Axes>"
      ]
     },
     "metadata": {},
     "output_type": "display_data"
    }
   ],
   "source": [
    "import matplotlib.pyplot as plt\n",
    "with plt.style.context('dark_background'):\n",
    "    plt.figure(figsize=(6, 4))\n",
    "\n",
    "    plt.bar(range(165), var_exp, alpha=0.5, align='center',\n",
    "            label='individual explained variance')\n",
    "    plt.ylabel('Explained variance ratio')\n",
    "    plt.xlabel('Principal components')\n",
    "    plt.legend(loc='best')\n",
    "    plt.tight_layout()\n",
    "plt.show()"
   ]
  },
  {
   "cell_type": "code",
   "execution_count": 16,
   "id": "00e8de85",
   "metadata": {},
   "outputs": [],
   "source": [
    "from sklearn.decomposition import PCA \n",
    "sklearn_pca = PCA(n_components=100)\n",
    "X_sklearn = sklearn_pca.fit_transform(X_std)\n"
   ]
  },
  {
   "cell_type": "code",
   "execution_count": 20,
   "id": "d480e051",
   "metadata": {},
   "outputs": [
    {
     "data": {
      "text/html": [
       "<style>#sk-container-id-2 {color: black;background-color: white;}#sk-container-id-2 pre{padding: 0;}#sk-container-id-2 div.sk-toggleable {background-color: white;}#sk-container-id-2 label.sk-toggleable__label {cursor: pointer;display: block;width: 100%;margin-bottom: 0;padding: 0.3em;box-sizing: border-box;text-align: center;}#sk-container-id-2 label.sk-toggleable__label-arrow:before {content: \"▸\";float: left;margin-right: 0.25em;color: #696969;}#sk-container-id-2 label.sk-toggleable__label-arrow:hover:before {color: black;}#sk-container-id-2 div.sk-estimator:hover label.sk-toggleable__label-arrow:before {color: black;}#sk-container-id-2 div.sk-toggleable__content {max-height: 0;max-width: 0;overflow: hidden;text-align: left;background-color: #f0f8ff;}#sk-container-id-2 div.sk-toggleable__content pre {margin: 0.2em;color: black;border-radius: 0.25em;background-color: #f0f8ff;}#sk-container-id-2 input.sk-toggleable__control:checked~div.sk-toggleable__content {max-height: 200px;max-width: 100%;overflow: auto;}#sk-container-id-2 input.sk-toggleable__control:checked~label.sk-toggleable__label-arrow:before {content: \"▾\";}#sk-container-id-2 div.sk-estimator input.sk-toggleable__control:checked~label.sk-toggleable__label {background-color: #d4ebff;}#sk-container-id-2 div.sk-label input.sk-toggleable__control:checked~label.sk-toggleable__label {background-color: #d4ebff;}#sk-container-id-2 input.sk-hidden--visually {border: 0;clip: rect(1px 1px 1px 1px);clip: rect(1px, 1px, 1px, 1px);height: 1px;margin: -1px;overflow: hidden;padding: 0;position: absolute;width: 1px;}#sk-container-id-2 div.sk-estimator {font-family: monospace;background-color: #f0f8ff;border: 1px dotted black;border-radius: 0.25em;box-sizing: border-box;margin-bottom: 0.5em;}#sk-container-id-2 div.sk-estimator:hover {background-color: #d4ebff;}#sk-container-id-2 div.sk-parallel-item::after {content: \"\";width: 100%;border-bottom: 1px solid gray;flex-grow: 1;}#sk-container-id-2 div.sk-label:hover label.sk-toggleable__label {background-color: #d4ebff;}#sk-container-id-2 div.sk-serial::before {content: \"\";position: absolute;border-left: 1px solid gray;box-sizing: border-box;top: 0;bottom: 0;left: 50%;z-index: 0;}#sk-container-id-2 div.sk-serial {display: flex;flex-direction: column;align-items: center;background-color: white;padding-right: 0.2em;padding-left: 0.2em;position: relative;}#sk-container-id-2 div.sk-item {position: relative;z-index: 1;}#sk-container-id-2 div.sk-parallel {display: flex;align-items: stretch;justify-content: center;background-color: white;position: relative;}#sk-container-id-2 div.sk-item::before, #sk-container-id-2 div.sk-parallel-item::before {content: \"\";position: absolute;border-left: 1px solid gray;box-sizing: border-box;top: 0;bottom: 0;left: 50%;z-index: -1;}#sk-container-id-2 div.sk-parallel-item {display: flex;flex-direction: column;z-index: 1;position: relative;background-color: white;}#sk-container-id-2 div.sk-parallel-item:first-child::after {align-self: flex-end;width: 50%;}#sk-container-id-2 div.sk-parallel-item:last-child::after {align-self: flex-start;width: 50%;}#sk-container-id-2 div.sk-parallel-item:only-child::after {width: 0;}#sk-container-id-2 div.sk-dashed-wrapped {border: 1px dashed gray;margin: 0 0.4em 0.5em 0.4em;box-sizing: border-box;padding-bottom: 0.4em;background-color: white;}#sk-container-id-2 div.sk-label label {font-family: monospace;font-weight: bold;display: inline-block;line-height: 1.2em;}#sk-container-id-2 div.sk-label-container {text-align: center;}#sk-container-id-2 div.sk-container {/* jupyter's `normalize.less` sets `[hidden] { display: none; }` but bootstrap.min.css set `[hidden] { display: none !important; }` so we also need the `!important` here to be able to override the default hidden behavior on the sphinx rendered scikit-learn.org. See: https://github.com/scikit-learn/scikit-learn/issues/21755 */display: inline-block !important;position: relative;}#sk-container-id-2 div.sk-text-repr-fallback {display: none;}</style><div id=\"sk-container-id-2\" class=\"sk-top-container\"><div class=\"sk-text-repr-fallback\"><pre>LinearRegression()</pre><b>In a Jupyter environment, please rerun this cell to show the HTML representation or trust the notebook. <br />On GitHub, the HTML representation is unable to render, please try loading this page with nbviewer.org.</b></div><div class=\"sk-container\" hidden><div class=\"sk-item\"><div class=\"sk-estimator sk-toggleable\"><input class=\"sk-toggleable__control sk-hidden--visually\" id=\"sk-estimator-id-2\" type=\"checkbox\" checked><label for=\"sk-estimator-id-2\" class=\"sk-toggleable__label sk-toggleable__label-arrow\">LinearRegression</label><div class=\"sk-toggleable__content\"><pre>LinearRegression()</pre></div></div></div></div></div>"
      ],
      "text/plain": [
       "LinearRegression()"
      ]
     },
     "execution_count": 20,
     "metadata": {},
     "output_type": "execute_result"
    }
   ],
   "source": [
    "X_train, X_val, y_train, y_val = train_test_split(X_sklearn, y, test_size = 0.1)\n",
    "from sklearn.linear_model import LinearRegression\n",
    "lr=LinearRegression()\n",
    "lr.fit(X_train, y_train)"
   ]
  },
  {
   "cell_type": "code",
   "execution_count": 21,
   "id": "c09f1bf3",
   "metadata": {},
   "outputs": [],
   "source": [
    "y_pred = lr.predict(X_val)"
   ]
  },
  {
   "cell_type": "code",
   "execution_count": 22,
   "id": "a92fb354",
   "metadata": {},
   "outputs": [
    {
     "data": {
      "text/plain": [
       "4.2154432890448845"
      ]
     },
     "execution_count": 22,
     "metadata": {},
     "output_type": "execute_result"
    }
   ],
   "source": [
    "mean_squared_error(y_val, y_pred)"
   ]
  },
  {
   "cell_type": "code",
   "execution_count": 23,
   "id": "d4e02f3c",
   "metadata": {},
   "outputs": [],
   "source": [
    "test_data = pd.read_csv('Test.csv')"
   ]
  },
  {
   "cell_type": "code",
   "execution_count": 24,
   "id": "69b232d1",
   "metadata": {},
   "outputs": [],
   "source": [
    "test_data['A']= label_encoder.fit_transform(test_data['A'])\n",
    "Index=test_data['Index']\n",
    "test_data.drop(['Index'],axis=1,inplace=True)"
   ]
  },
  {
   "cell_type": "code",
   "execution_count": 25,
   "id": "953f151a",
   "metadata": {},
   "outputs": [],
   "source": [
    "X_multi_trans1 = poly.fit_transform(test_data)"
   ]
  },
  {
   "cell_type": "code",
   "execution_count": 26,
   "id": "10a763f6",
   "metadata": {},
   "outputs": [],
   "source": [
    "X_std1 = StandardScaler().fit_transform(X_multi_trans1)"
   ]
  },
  {
   "cell_type": "code",
   "execution_count": 27,
   "id": "fbe554cc",
   "metadata": {},
   "outputs": [],
   "source": [
    "X_sklearn1 = sklearn_pca.fit_transform(X_std1)"
   ]
  },
  {
   "cell_type": "code",
   "execution_count": 28,
   "id": "462c8e04",
   "metadata": {},
   "outputs": [],
   "source": [
    "y_test1=lr.predict(X_sklearn1)"
   ]
  },
  {
   "cell_type": "code",
   "execution_count": 29,
   "id": "56fb76c7",
   "metadata": {},
   "outputs": [],
   "source": [
    "result = pd.DataFrame(Index, columns = ['Index'])\n",
    "result['Target']= y_test1"
   ]
  },
  {
   "cell_type": "code",
   "execution_count": 30,
   "id": "773b14d5",
   "metadata": {},
   "outputs": [
    {
     "data": {
      "text/html": [
       "<div>\n",
       "<style scoped>\n",
       "    .dataframe tbody tr th:only-of-type {\n",
       "        vertical-align: middle;\n",
       "    }\n",
       "\n",
       "    .dataframe tbody tr th {\n",
       "        vertical-align: top;\n",
       "    }\n",
       "\n",
       "    .dataframe thead th {\n",
       "        text-align: right;\n",
       "    }\n",
       "</style>\n",
       "<table border=\"1\" class=\"dataframe\">\n",
       "  <thead>\n",
       "    <tr style=\"text-align: right;\">\n",
       "      <th></th>\n",
       "      <th>Index</th>\n",
       "      <th>Target</th>\n",
       "    </tr>\n",
       "  </thead>\n",
       "  <tbody>\n",
       "    <tr>\n",
       "      <th>0</th>\n",
       "      <td>866</td>\n",
       "      <td>10.697432</td>\n",
       "    </tr>\n",
       "    <tr>\n",
       "      <th>1</th>\n",
       "      <td>1483</td>\n",
       "      <td>10.051913</td>\n",
       "    </tr>\n",
       "    <tr>\n",
       "      <th>2</th>\n",
       "      <td>599</td>\n",
       "      <td>10.272814</td>\n",
       "    </tr>\n",
       "    <tr>\n",
       "      <th>3</th>\n",
       "      <td>1702</td>\n",
       "      <td>9.199796</td>\n",
       "    </tr>\n",
       "    <tr>\n",
       "      <th>4</th>\n",
       "      <td>670</td>\n",
       "      <td>8.937444</td>\n",
       "    </tr>\n",
       "    <tr>\n",
       "      <th>...</th>\n",
       "      <td>...</td>\n",
       "      <td>...</td>\n",
       "    </tr>\n",
       "    <tr>\n",
       "      <th>1040</th>\n",
       "      <td>532</td>\n",
       "      <td>9.204318</td>\n",
       "    </tr>\n",
       "    <tr>\n",
       "      <th>1041</th>\n",
       "      <td>3417</td>\n",
       "      <td>10.754282</td>\n",
       "    </tr>\n",
       "    <tr>\n",
       "      <th>1042</th>\n",
       "      <td>1505</td>\n",
       "      <td>10.358846</td>\n",
       "    </tr>\n",
       "    <tr>\n",
       "      <th>1043</th>\n",
       "      <td>2245</td>\n",
       "      <td>8.965010</td>\n",
       "    </tr>\n",
       "    <tr>\n",
       "      <th>1044</th>\n",
       "      <td>2428</td>\n",
       "      <td>8.624157</td>\n",
       "    </tr>\n",
       "  </tbody>\n",
       "</table>\n",
       "<p>1045 rows × 2 columns</p>\n",
       "</div>"
      ],
      "text/plain": [
       "      Index     Target\n",
       "0       866  10.697432\n",
       "1      1483  10.051913\n",
       "2       599  10.272814\n",
       "3      1702   9.199796\n",
       "4       670   8.937444\n",
       "...     ...        ...\n",
       "1040    532   9.204318\n",
       "1041   3417  10.754282\n",
       "1042   1505  10.358846\n",
       "1043   2245   8.965010\n",
       "1044   2428   8.624157\n",
       "\n",
       "[1045 rows x 2 columns]"
      ]
     },
     "execution_count": 30,
     "metadata": {},
     "output_type": "execute_result"
    }
   ],
   "source": [
    "result"
   ]
  },
  {
   "cell_type": "code",
   "execution_count": 31,
   "id": "7f2c9fb7",
   "metadata": {},
   "outputs": [],
   "source": [
    "result.to_csv(\"submission42pca_poly.csv\", index=False)"
   ]
  },
  {
   "cell_type": "code",
   "execution_count": 32,
   "id": "c54cbf90",
   "metadata": {},
   "outputs": [
    {
     "data": {
      "text/html": [
       "<style>#sk-container-id-3 {color: black;background-color: white;}#sk-container-id-3 pre{padding: 0;}#sk-container-id-3 div.sk-toggleable {background-color: white;}#sk-container-id-3 label.sk-toggleable__label {cursor: pointer;display: block;width: 100%;margin-bottom: 0;padding: 0.3em;box-sizing: border-box;text-align: center;}#sk-container-id-3 label.sk-toggleable__label-arrow:before {content: \"▸\";float: left;margin-right: 0.25em;color: #696969;}#sk-container-id-3 label.sk-toggleable__label-arrow:hover:before {color: black;}#sk-container-id-3 div.sk-estimator:hover label.sk-toggleable__label-arrow:before {color: black;}#sk-container-id-3 div.sk-toggleable__content {max-height: 0;max-width: 0;overflow: hidden;text-align: left;background-color: #f0f8ff;}#sk-container-id-3 div.sk-toggleable__content pre {margin: 0.2em;color: black;border-radius: 0.25em;background-color: #f0f8ff;}#sk-container-id-3 input.sk-toggleable__control:checked~div.sk-toggleable__content {max-height: 200px;max-width: 100%;overflow: auto;}#sk-container-id-3 input.sk-toggleable__control:checked~label.sk-toggleable__label-arrow:before {content: \"▾\";}#sk-container-id-3 div.sk-estimator input.sk-toggleable__control:checked~label.sk-toggleable__label {background-color: #d4ebff;}#sk-container-id-3 div.sk-label input.sk-toggleable__control:checked~label.sk-toggleable__label {background-color: #d4ebff;}#sk-container-id-3 input.sk-hidden--visually {border: 0;clip: rect(1px 1px 1px 1px);clip: rect(1px, 1px, 1px, 1px);height: 1px;margin: -1px;overflow: hidden;padding: 0;position: absolute;width: 1px;}#sk-container-id-3 div.sk-estimator {font-family: monospace;background-color: #f0f8ff;border: 1px dotted black;border-radius: 0.25em;box-sizing: border-box;margin-bottom: 0.5em;}#sk-container-id-3 div.sk-estimator:hover {background-color: #d4ebff;}#sk-container-id-3 div.sk-parallel-item::after {content: \"\";width: 100%;border-bottom: 1px solid gray;flex-grow: 1;}#sk-container-id-3 div.sk-label:hover label.sk-toggleable__label {background-color: #d4ebff;}#sk-container-id-3 div.sk-serial::before {content: \"\";position: absolute;border-left: 1px solid gray;box-sizing: border-box;top: 0;bottom: 0;left: 50%;z-index: 0;}#sk-container-id-3 div.sk-serial {display: flex;flex-direction: column;align-items: center;background-color: white;padding-right: 0.2em;padding-left: 0.2em;position: relative;}#sk-container-id-3 div.sk-item {position: relative;z-index: 1;}#sk-container-id-3 div.sk-parallel {display: flex;align-items: stretch;justify-content: center;background-color: white;position: relative;}#sk-container-id-3 div.sk-item::before, #sk-container-id-3 div.sk-parallel-item::before {content: \"\";position: absolute;border-left: 1px solid gray;box-sizing: border-box;top: 0;bottom: 0;left: 50%;z-index: -1;}#sk-container-id-3 div.sk-parallel-item {display: flex;flex-direction: column;z-index: 1;position: relative;background-color: white;}#sk-container-id-3 div.sk-parallel-item:first-child::after {align-self: flex-end;width: 50%;}#sk-container-id-3 div.sk-parallel-item:last-child::after {align-self: flex-start;width: 50%;}#sk-container-id-3 div.sk-parallel-item:only-child::after {width: 0;}#sk-container-id-3 div.sk-dashed-wrapped {border: 1px dashed gray;margin: 0 0.4em 0.5em 0.4em;box-sizing: border-box;padding-bottom: 0.4em;background-color: white;}#sk-container-id-3 div.sk-label label {font-family: monospace;font-weight: bold;display: inline-block;line-height: 1.2em;}#sk-container-id-3 div.sk-label-container {text-align: center;}#sk-container-id-3 div.sk-container {/* jupyter's `normalize.less` sets `[hidden] { display: none; }` but bootstrap.min.css set `[hidden] { display: none !important; }` so we also need the `!important` here to be able to override the default hidden behavior on the sphinx rendered scikit-learn.org. See: https://github.com/scikit-learn/scikit-learn/issues/21755 */display: inline-block !important;position: relative;}#sk-container-id-3 div.sk-text-repr-fallback {display: none;}</style><div id=\"sk-container-id-3\" class=\"sk-top-container\"><div class=\"sk-text-repr-fallback\"><pre>Ridge(alpha=0.01, max_iter=1000, tol=1)</pre><b>In a Jupyter environment, please rerun this cell to show the HTML representation or trust the notebook. <br />On GitHub, the HTML representation is unable to render, please try loading this page with nbviewer.org.</b></div><div class=\"sk-container\" hidden><div class=\"sk-item\"><div class=\"sk-estimator sk-toggleable\"><input class=\"sk-toggleable__control sk-hidden--visually\" id=\"sk-estimator-id-3\" type=\"checkbox\" checked><label for=\"sk-estimator-id-3\" class=\"sk-toggleable__label sk-toggleable__label-arrow\">Ridge</label><div class=\"sk-toggleable__content\"><pre>Ridge(alpha=0.01, max_iter=1000, tol=1)</pre></div></div></div></div></div>"
      ],
      "text/plain": [
       "Ridge(alpha=0.01, max_iter=1000, tol=1)"
      ]
     },
     "execution_count": 32,
     "metadata": {},
     "output_type": "execute_result"
    }
   ],
   "source": [
    "from sklearn.linear_model import Ridge\n",
    "ridge_reg= Ridge(alpha=0.01, max_iter=1000, tol=1)\n",
    "ridge_reg.fit(X_train, y_train)"
   ]
  },
  {
   "cell_type": "code",
   "execution_count": 33,
   "id": "31cc4bbb",
   "metadata": {},
   "outputs": [],
   "source": [
    "y_pred = ridge_reg.predict(X_val)"
   ]
  },
  {
   "cell_type": "code",
   "execution_count": 34,
   "id": "9ee1fccd",
   "metadata": {},
   "outputs": [
    {
     "data": {
      "text/plain": [
       "4.215985723522857"
      ]
     },
     "execution_count": 34,
     "metadata": {},
     "output_type": "execute_result"
    }
   ],
   "source": [
    "mean_squared_error(y_val, y_pred)"
   ]
  },
  {
   "cell_type": "code",
   "execution_count": 35,
   "id": "bd584de8",
   "metadata": {},
   "outputs": [],
   "source": [
    "y_test2=ridge_reg.predict(X_sklearn1)"
   ]
  },
  {
   "cell_type": "code",
   "execution_count": 36,
   "id": "777735b8",
   "metadata": {},
   "outputs": [],
   "source": [
    "result2 = pd.DataFrame(Index, columns = ['Index'])\n",
    "result2['Target']= y_test2"
   ]
  },
  {
   "cell_type": "code",
   "execution_count": 37,
   "id": "2269454b",
   "metadata": {},
   "outputs": [
    {
     "data": {
      "text/html": [
       "<div>\n",
       "<style scoped>\n",
       "    .dataframe tbody tr th:only-of-type {\n",
       "        vertical-align: middle;\n",
       "    }\n",
       "\n",
       "    .dataframe tbody tr th {\n",
       "        vertical-align: top;\n",
       "    }\n",
       "\n",
       "    .dataframe thead th {\n",
       "        text-align: right;\n",
       "    }\n",
       "</style>\n",
       "<table border=\"1\" class=\"dataframe\">\n",
       "  <thead>\n",
       "    <tr style=\"text-align: right;\">\n",
       "      <th></th>\n",
       "      <th>Index</th>\n",
       "      <th>Target</th>\n",
       "    </tr>\n",
       "  </thead>\n",
       "  <tbody>\n",
       "    <tr>\n",
       "      <th>0</th>\n",
       "      <td>866</td>\n",
       "      <td>10.627443</td>\n",
       "    </tr>\n",
       "    <tr>\n",
       "      <th>1</th>\n",
       "      <td>1483</td>\n",
       "      <td>10.053922</td>\n",
       "    </tr>\n",
       "    <tr>\n",
       "      <th>2</th>\n",
       "      <td>599</td>\n",
       "      <td>10.278374</td>\n",
       "    </tr>\n",
       "    <tr>\n",
       "      <th>3</th>\n",
       "      <td>1702</td>\n",
       "      <td>9.203488</td>\n",
       "    </tr>\n",
       "    <tr>\n",
       "      <th>4</th>\n",
       "      <td>670</td>\n",
       "      <td>8.946443</td>\n",
       "    </tr>\n",
       "    <tr>\n",
       "      <th>...</th>\n",
       "      <td>...</td>\n",
       "      <td>...</td>\n",
       "    </tr>\n",
       "    <tr>\n",
       "      <th>1040</th>\n",
       "      <td>532</td>\n",
       "      <td>9.217702</td>\n",
       "    </tr>\n",
       "    <tr>\n",
       "      <th>1041</th>\n",
       "      <td>3417</td>\n",
       "      <td>10.725869</td>\n",
       "    </tr>\n",
       "    <tr>\n",
       "      <th>1042</th>\n",
       "      <td>1505</td>\n",
       "      <td>10.324246</td>\n",
       "    </tr>\n",
       "    <tr>\n",
       "      <th>1043</th>\n",
       "      <td>2245</td>\n",
       "      <td>8.884333</td>\n",
       "    </tr>\n",
       "    <tr>\n",
       "      <th>1044</th>\n",
       "      <td>2428</td>\n",
       "      <td>8.685356</td>\n",
       "    </tr>\n",
       "  </tbody>\n",
       "</table>\n",
       "<p>1045 rows × 2 columns</p>\n",
       "</div>"
      ],
      "text/plain": [
       "      Index     Target\n",
       "0       866  10.627443\n",
       "1      1483  10.053922\n",
       "2       599  10.278374\n",
       "3      1702   9.203488\n",
       "4       670   8.946443\n",
       "...     ...        ...\n",
       "1040    532   9.217702\n",
       "1041   3417  10.725869\n",
       "1042   1505  10.324246\n",
       "1043   2245   8.884333\n",
       "1044   2428   8.685356\n",
       "\n",
       "[1045 rows x 2 columns]"
      ]
     },
     "execution_count": 37,
     "metadata": {},
     "output_type": "execute_result"
    }
   ],
   "source": [
    "result2"
   ]
  },
  {
   "cell_type": "code",
   "execution_count": 163,
   "id": "0ca1b745",
   "metadata": {},
   "outputs": [],
   "source": [
    "result2.to_csv(\"submission33pca_poly_ridge.csv\", index=False)"
   ]
  },
  {
   "cell_type": "code",
   "execution_count": null,
   "id": "cae46011",
   "metadata": {},
   "outputs": [],
   "source": []
  }
 ],
 "metadata": {
  "kernelspec": {
   "display_name": "Python 3 (ipykernel)",
   "language": "python",
   "name": "python3"
  },
  "language_info": {
   "codemirror_mode": {
    "name": "ipython",
    "version": 3
   },
   "file_extension": ".py",
   "mimetype": "text/x-python",
   "name": "python",
   "nbconvert_exporter": "python",
   "pygments_lexer": "ipython3",
   "version": "3.10.9"
  }
 },
 "nbformat": 4,
 "nbformat_minor": 5
}
